{
 "cells": [
  {
   "cell_type": "code",
   "execution_count": 14,
   "metadata": {},
   "outputs": [
    {
     "name": "stdout",
     "output_type": "stream",
     "text": [
      "20.2\n"
     ]
    }
   ],
   "source": [
    "# normal mean\n",
    "list1 = [12, 16, 20, 20, 12, 30, 25, 23, 24, 20]\n",
    "mean = sum(list1)/len(list1)\n",
    "print(mean)"
   ]
  },
  {
   "cell_type": "code",
   "execution_count": 15,
   "metadata": {},
   "outputs": [
    {
     "name": "stdout",
     "output_type": "stream",
     "text": [
      "5.2\n"
     ]
    }
   ],
   "source": [
    "# mean with statistics module\n",
    "import statistics\n",
    "print(statistics.mean([4, 8, 6, 5, 3, 2, 8, 9, 2, 5]))"
   ]
  },
  {
   "cell_type": "code",
   "execution_count": 1,
   "metadata": {},
   "outputs": [
    {
     "name": "stdout",
     "output_type": "stream",
     "text": [
      "Median is: 3.5\n"
     ]
    }
   ],
   "source": [
    "# median\n",
    "n_num = [1, 2, 3, 4, 5,6] \n",
    "n = len(n_num) \n",
    "n_num.sort() \n",
    " \n",
    "if n % 2 == 0: \n",
    "    median1 = n_num[n//2] \n",
    "    median2 = n_num[n//2 -1] \n",
    "    median= (median1 + median2)/2\n",
    "else: \n",
    "    median = n_num[n//2] \n",
    "print(\"Median is: \" + str(median))\n"
   ]
  },
  {
   "cell_type": "code",
   "execution_count": 17,
   "metadata": {},
   "outputs": [
    {
     "name": "stdout",
     "output_type": "stream",
     "text": [
      "3\n",
      "3.5\n"
     ]
    }
   ],
   "source": [
    "# median with statistics module\n",
    "import statistics\n",
    "print(statistics.median([3, 5, 1, 4, 2]))\n",
    "print(statistics.median([3, 5, 1, 4, 2, 6]))\n"
   ]
  },
  {
   "cell_type": "code",
   "execution_count": 18,
   "metadata": {},
   "outputs": [
    {
     "name": "stdout",
     "output_type": "stream",
     "text": [
      "20\n"
     ]
    }
   ],
   "source": [
    "# mode\n",
    "list1 = [12, 16, 20, 20, 12, 30, 25, 23, 24, 20]\n",
    "frequency = {}\n",
    "for i in list1:\n",
    "    frequency.setdefault(i, 0)\n",
    "    frequency[i]+=1\n",
    "\n",
    "frequent = max(frequency.values())\n",
    "for i, j in frequency.items():\n",
    "    if j == frequent:\n",
    "        mode=i\n",
    "print(mode)\n"
   ]
  },
  {
   "cell_type": "code",
   "execution_count": 19,
   "metadata": {},
   "outputs": [
    {
     "name": "stdout",
     "output_type": "stream",
     "text": [
      "2\n",
      "4\n",
      "few\n"
     ]
    }
   ],
   "source": [
    "# mode with statistics module\n",
    "import statistics\n",
    "print(statistics.mode([4, 1, 2, 2, 3, 5]))\n",
    "print(statistics.mode([4, 1, 2, 2, 3, 5, 4]))\n",
    "print(statistics.mode([\"few\", \"few\", \"many\", \"some\", \"many\"]))"
   ]
  },
  {
   "cell_type": "code",
   "execution_count": 20,
   "metadata": {},
   "outputs": [
    {
     "name": "stdout",
     "output_type": "stream",
     "text": [
      "4.49\n"
     ]
    }
   ],
   "source": [
    "# variance\n",
    "def variance(val):\n",
    "    numb = len(val)\n",
    "    # m will have the mean value\n",
    "    m = sum(val) / numb\n",
    "    # Square deviations\n",
    "    devi = [(x - m) ** 2 for x in val]\n",
    "    # Variance\n",
    "    variance = sum(devi) / numb\n",
    "    return variance\n",
    "\n",
    "print(variance([6, 6, 3, 9, 4, 3, 6, 9, 7, 8]))\n"
   ]
  },
  {
   "cell_type": "code",
   "execution_count": 21,
   "metadata": {},
   "outputs": [
    {
     "name": "stdout",
     "output_type": "stream",
     "text": [
      "4.49\n"
     ]
    }
   ],
   "source": [
    "# variance with numpy module\n",
    "import numpy as np\n",
    "# assigning the list of elements to li\n",
    "li = [6, 6, 3, 9, 4, 3, 6, 9, 7, 8]\n",
    "print(np.var(li))\n"
   ]
  },
  {
   "cell_type": "code",
   "execution_count": 22,
   "metadata": {},
   "outputs": [
    {
     "name": "stdout",
     "output_type": "stream",
     "text": [
      "4.988888888888889\n"
     ]
    }
   ],
   "source": [
    "# variance with statistics module\n",
    "import statistics\n",
    "print(statistics.variance([6, 6, 3, 9, 4, 3, 6, 9, 7, 8]))\n"
   ]
  },
  {
   "cell_type": "code",
   "execution_count": 23,
   "metadata": {},
   "outputs": [
    {
     "name": "stdout",
     "output_type": "stream",
     "text": [
      "2.0591260281974\n"
     ]
    }
   ],
   "source": [
    "# standard deviation\n",
    "import math\n",
    "# Finding the variance is essential before calculating the standard deviation\n",
    "def varinc(val, ddof=0):\n",
    "    n = len(val)\n",
    "    m = sum(val) / n\n",
    "    return sum((x - m) ** 2 for x in val) / (n - ddof)\n",
    "# finding the standard deviation\n",
    "def stddev(val):\n",
    "    vari = varinc(val)\n",
    "    stdev = math.sqrt(vari)\n",
    "    return stdev\n",
    "print (stddev([5, 9, 6, 2, 6, 3, 7, 4, 8, 6]))\n"
   ]
  },
  {
   "cell_type": "code",
   "execution_count": 24,
   "metadata": {},
   "outputs": [
    {
     "name": "stdout",
     "output_type": "stream",
     "text": [
      "2.0591260281974\n",
      "2.1705094128132942\n"
     ]
    }
   ],
   "source": [
    "# standard deviation with statistics module\n",
    "import statistics\n",
    "populated = statistics.pstdev([5, 9, 6, 2, 6, 3, 7, 4, 8, 6])\n",
    "sample = statistics.stdev([5, 9, 6, 2, 6, 3, 7, 4, 8, 6])\n",
    "print(populated)\n",
    "print(sample)\n"
   ]
  }
 ],
 "metadata": {
  "kernelspec": {
   "display_name": "Python 3",
   "language": "python",
   "name": "python3"
  },
  "language_info": {
   "codemirror_mode": {
    "name": "ipython",
    "version": 3
   },
   "file_extension": ".py",
   "mimetype": "text/x-python",
   "name": "python",
   "nbconvert_exporter": "python",
   "pygments_lexer": "ipython3",
   "version": "3.12.2"
  }
 },
 "nbformat": 4,
 "nbformat_minor": 2
}
