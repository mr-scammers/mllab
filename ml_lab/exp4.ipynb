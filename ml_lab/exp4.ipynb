{
 "cells": [
  {
   "cell_type": "code",
   "execution_count": null,
   "metadata": {
    "vscode": {
     "languageId": "plaintext"
    }
   },
   "outputs": [],
   "source": [
    "import numpy  as np \n",
    "import pandas as pd\n",
    "import matplotlib.pyplot as plt\n",
    "from sklearn.model_selection import train_test_split \n",
    "from sklearn.linear_model import LinearRegression \n",
    "from sklearn.metrics import r2_score\n",
    "#Loadingdataset\n",
    "dataset=pd.read_csv('salary_data.csv') \n",
    "#Feature Extraction\n",
    "X=dataset.iloc[:,:-1].values \n",
    "y = dataset.iloc[:,-1].values \n",
    "#splitting Train & Test data\n",
    "X_train,X_test,y_train,y_test=train_test_split(X,y,test_size=0.3) \n",
    "#Linear Rgression Model Creation\n",
    "reg_model = LinearRegression() \n",
    "#ModelTraining(Fitthemodel) \n",
    "reg_model.fit(X_train,y_train) \n",
    "#Model Prediction\n",
    "y_pred=reg_model.predict(X_test)\n",
    " #Finding R-Sqaure value\n",
    "print(\"R-Sqaure value(accuracy):\",r2_score(y_test,y_pred)) \n",
    "#Visualizing the graph\n",
    "plt.scatter(X_test,y_test, color='red') \n",
    "plt.plot(X_test, y_pred,color='blue')\n",
    "plt.show()\n"
   ]
  }
 ],
 "metadata": {
  "language_info": {
   "name": "python"
  }
 },
 "nbformat": 4,
 "nbformat_minor": 2
}
