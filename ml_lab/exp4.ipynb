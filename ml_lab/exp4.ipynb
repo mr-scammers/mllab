{
 "cells": [
  {
   "cell_type": "code",
   "execution_count": null,
   "metadata": {
    "vscode": {
     "languageId": "plaintext"
    }
   },
   "outputs": [],
   "source": [
    "Import  numpy  as np importpandasaspd\n",
    "importmatplotlib.pyplotasplt\n",
    "fromsklearn.model_selectionimporttrain_test_split from sklearn.linear_model import LinearRegression from sklearn.metrics import r2_score\n",
    "#Loadingdataset\n",
    "dataset=pd.read_csv('Salary_Data.csv') #Feature Extraction\n",
    "X=dataset.iloc[:,:-1].values y = dataset.iloc[:,-1].values #splitting Train & Test data\n",
    "X_train,X_test,y_train,y_test=train_test_split(X,y,test_size=0.3) #Linear Rgression Model Creation\n",
    "reg_model = LinearRegression() #ModelTraining(Fitthemodel) reg_model.fit(X_train,y_train) #Model Prediction\n",
    "y_pred=reg_model.predict(X_test) #Finding R-Sqaure value\n",
    "print(\"R-Sqaure value(accuracy):\",r2_score(y_test,y_pred)) #Visualizing the graph\n",
    "plt.scatter(X_test,y_test, color='red') plt.plot(X_test, y_pred,color='blue') plt.show()\n"
   ]
  }
 ],
 "metadata": {
  "language_info": {
   "name": "python"
  }
 },
 "nbformat": 4,
 "nbformat_minor": 2
}
