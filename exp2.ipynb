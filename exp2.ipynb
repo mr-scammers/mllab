{
 "cells": [
  {
   "cell_type": "code",
   "execution_count": 3,
   "metadata": {},
   "outputs": [
    {
     "name": "stdout",
     "output_type": "stream",
     "text": [
      "Mean: 8\n",
      "Median: 8\n",
      "Mode: 3\n",
      "Standard Deviation: 4.320493798938574\n",
      "Variance: 18.666666666666668\n"
     ]
    }
   ],
   "source": [
    "import statistics as stats \n",
    "data = [2, 4, 6, 8, 10, 12, 14] \n",
    "# Mean \n",
    "mean = stats.mean(data) \n",
    "print(f\"Mean: {mean}\") \n",
    "# Median \n",
    "median = stats.median(data) \n",
    "print(f\"Median: {median}\") \n",
    "# Mode \n",
    "data_with_mode = [2, 2, 3, 3, 3, 4, 5] \n",
    "mode = stats.mode(data_with_mode) \n",
    "print(f\"Mode: {mode}\") \n",
    "# Standard Deviation \n",
    "std_dev = stats.stdev(data) \n",
    "print(f\"Standard Deviation: {std_dev}\") \n",
    "# Variance \n",
    "variance = stats.variance(data) \n",
    "print(f\"Variance: {variance}\")\n"
   ]
  },
  {
   "cell_type": "code",
   "execution_count": 4,
   "metadata": {},
   "outputs": [
    {
     "name": "stdout",
     "output_type": "stream",
     "text": [
      "Square Root of 16: 4.0\n",
      "Sine of 45 degrees: 0.7071067811865476\n",
      "Logarithm base 10 of 100: 2.0\n",
      "e^2: 7.38905609893065\n"
     ]
    }
   ],
   "source": [
    "import math\n",
    "# Basic mathematical functions\n",
    "x = 16\n",
    "sqrt = math.sqrt(x)\n",
    "print(f\"Square Root of {x}: {sqrt}\")\n",
    "# Trigonometric functions\n",
    "angle = math.radians(45)\n",
    "sin_angle = math.sin(angle)\n",
    "print(f\"Sine of 45 degrees: {sin_angle}\")\n",
    "# Exponential and logarithmic functions\n",
    "log_value = math.log(100, 10)\n",
    "print(f\"Logarithm base 10 of 100: {log_value}\")\n",
    "exp_value = math.exp(2)\n",
    "print(f\"e^2: {exp_value}\")\n"
   ]
  },
  {
   "cell_type": "code",
   "execution_count": 5,
   "metadata": {},
   "outputs": [
    {
     "name": "stdout",
     "output_type": "stream",
     "text": [
      "Sum of arrays: [ 7  9 11 13 15]\n",
      "Mean: 3.0\n",
      "Standard Deviation: 1.4142135623730951\n",
      "Reshaped array to matrix:\n",
      "[[1]\n",
      " [2]\n",
      " [3]\n",
      " [4]\n",
      " [5]]\n"
     ]
    }
   ],
   "source": [
    "import numpy as np\n",
    "# Create arrays\n",
    "array1 = np.array([1, 2, 3, 4, 5])\n",
    "array2 = np.array([6, 7, 8, 9, 10])\n",
    "# Array operations\n",
    "sum_arrays = array1 + array2\n",
    "print(f\"Sum of arrays: {sum_arrays}\")\n",
    "# Statistical functions\n",
    "mean = np.mean(array1)\n",
    "print(f\"Mean: {mean}\")\n",
    "std_dev = np.std(array1)\n",
    "print(f\"Standard Deviation: {std_dev}\")\n",
    "# Reshaping arrays\n",
    "matrix = np.reshape(array1, (5, 1))\n",
    "print(f\"Reshaped array to matrix:\\n{matrix}\")\n"
   ]
  },
  {
   "cell_type": "code",
   "execution_count": 6,
   "metadata": {},
   "outputs": [
    {
     "name": "stdout",
     "output_type": "stream",
     "text": [
      "Mean: 0.0049560649810058074, Standard Deviation: 1.0037467126571804\n",
      "T-statistic: 0.1560614364901522, P-value: 0.8760161245534006\n",
      "Pearson Correlation Coefficient: 1.0\n"
     ]
    }
   ],
   "source": [
    "\n",
    "from scipy import stats as scipy_stats\n",
    "import numpy as np\n",
    "# Generate a random sample\n",
    "data = np.random.normal(loc=0, scale=1, size=1000)\n",
    "# Descriptive statistics\n",
    "mean = np.mean(data)\n",
    "std_dev = np.std(data)\n",
    "print(f\"Mean: {mean}, Standard Deviation: {std_dev}\")\n",
    "# T-test\n",
    "t_stat, p_value = scipy_stats.ttest_1samp(data, 0)\n",
    "print(f\"T-statistic: {t_stat}, P-value: {p_value}\")\n",
    "# Pearson correlation coefficient\n",
    "array1 = np.array([1, 2, 3, 4, 5])\n",
    "array2 = np.array([6, 7, 8, 9, 10])\n",
    "correlation, _ = scipy_stats.pearsonr(array1, array2)\n",
    "print(f\"Pearson Correlation Coefficient: {correlation}\")\n"
   ]
  }
 ],
 "metadata": {
  "kernelspec": {
   "display_name": "Python 3",
   "language": "python",
   "name": "python3"
  },
  "language_info": {
   "codemirror_mode": {
    "name": "ipython",
    "version": 3
   },
   "file_extension": ".py",
   "mimetype": "text/x-python",
   "name": "python",
   "nbconvert_exporter": "python",
   "pygments_lexer": "ipython3",
   "version": "3.12.2"
  }
 },
 "nbformat": 4,
 "nbformat_minor": 2
}
